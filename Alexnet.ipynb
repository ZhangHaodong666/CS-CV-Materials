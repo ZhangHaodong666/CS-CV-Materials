{
  "nbformat": 4,
  "nbformat_minor": 0,
  "metadata": {
    "colab": {
      "name": "Alexnet.ipynb",
      "provenance": []
    },
    "kernelspec": {
      "name": "python3",
      "display_name": "Python 3"
    },
    "accelerator": "GPU"
  },
  "cells": [
    {
      "cell_type": "code",
      "metadata": {
        "id": "cJnW6qC_ey_r",
        "colab_type": "code",
        "colab": {}
      },
      "source": [
        "import torch\n",
        "from torch.autograd import Variable\n",
        "import numpy as np\n",
        "import matplotlib.pyplot as plt\n",
        "from torch import nn,optim\n",
        "from torch.utils.data import DataLoader\n",
        "from torchvision import datasets,transforms\n",
        "import torch\n",
        "from torch import nn, optim\n",
        "from torch.autograd import Variable\n",
        "from torch.utils.data import DataLoader\n",
        "from torchvision import datasets, transforms"
      ],
      "execution_count": 0,
      "outputs": []
    },
    {
      "cell_type": "code",
      "metadata": {
        "id": "k0z39n5mh_gZ",
        "colab_type": "code",
        "outputId": "b95f3430-52ed-4655-fa68-86f95b24ce85",
        "colab": {
          "base_uri": "https://localhost:8080/",
          "height": 33
        }
      },
      "source": [
        "train_transform = transforms.Compose([transforms.RandomHorizontalFlip(), transforms.ToTensor()])\n",
        "test_transform = transforms.Compose([transforms.ToTensor()])\n",
        "\n",
        "train_dataset=datasets.CIFAR10(root='./data1',train=True,transform=data_tf,download=True)\n",
        "test_dataset=datasets.CIFAR10(root='./data1',train=False,transform=data_tf)\n",
        "#使用内置的函数导入数据集\n",
        "train_loader=DataLoader(train_dataset,batch_size=4,shuffle=True)\n",
        "test_loader=DataLoader(test_dataset,batch_size=4,shuffle=False)\n"
      ],
      "execution_count": 0,
      "outputs": [
        {
          "output_type": "stream",
          "text": [
            "Files already downloaded and verified\n"
          ],
          "name": "stdout"
        }
      ]
    },
    {
      "cell_type": "code",
      "metadata": {
        "id": "4l18lredetHt",
        "colab_type": "code",
        "colab": {}
      },
      "source": [
        "class MyAlexNet(nn.Module):\n",
        "    def __init__(self, num_classes=10):\n",
        "        super(MyAlexNet, self).__init__()\n",
        "        self.features = nn.Sequential(\n",
        "            nn.Conv2d(3, 64, kernel_size=3, stride=2, padding=1),\n",
        "            nn.ReLU(inplace=True),\n",
        "            nn.MaxPool2d(kernel_size=2),\n",
        "            nn.Conv2d(64, 192, kernel_size=3, padding=1),\n",
        "            nn.ReLU(inplace=True),\n",
        "            nn.MaxPool2d(kernel_size=2),\n",
        "            nn.Conv2d(192, 384, kernel_size=3, padding=1),\n",
        "            nn.ReLU(inplace=True),\n",
        "            nn.Conv2d(384, 256, kernel_size=3, padding=1),\n",
        "            nn.ReLU(inplace=True),\n",
        "            nn.Conv2d(256, 256, kernel_size=3, padding=1),\n",
        "            nn.ReLU(inplace=True),\n",
        "            nn.MaxPool2d(kernel_size=2),\n",
        "        )\n",
        "        self.classifier = nn.Sequential(\n",
        "            nn.Dropout(),\n",
        "            nn.Linear(256 * 2 * 2, 4096),\n",
        "            nn.ReLU(inplace=True),\n",
        "            nn.Dropout(),\n",
        "            nn.Linear(4096, 4096),\n",
        "            nn.ReLU(inplace=True),\n",
        "            nn.Linear(4096, num_classes),\n",
        "        )\n",
        "\n",
        "    def forward(self, x):\n",
        "        x = self.features(x)\n",
        "        x = x.view(x.size(0), 256 * 2 * 2)\n",
        "        x = self.classifier(x)\n",
        "        return x\n",
        "  \n",
        "  \n"
      ],
      "execution_count": 0,
      "outputs": []
    },
    {
      "cell_type": "code",
      "metadata": {
        "id": "0FaIU0e2nYro",
        "colab_type": "code",
        "colab": {}
      },
      "source": [
        "classes = ('plane', 'car', 'bird', 'cat', 'deer', 'dog', 'frog', 'horse', 'ship', 'truck')"
      ],
      "execution_count": 0,
      "outputs": []
    },
    {
      "cell_type": "code",
      "metadata": {
        "id": "Uozz7e46ikZj",
        "colab_type": "code",
        "outputId": "0080824a-8114-4224-f802-8b12d92870ca",
        "colab": {
          "base_uri": "https://localhost:8080/",
          "height": 316
        }
      },
      "source": [
        "import torch\n",
        "from torch.autograd import Variable\n",
        "import numpy as np\n",
        "import matplotlib.pyplot as plt\n",
        " \n",
        "from torch import nn,optim\n",
        "from torch.utils.data import DataLoader\n",
        "from torchvision import datasets,transforms\n",
        "#定义一些超参数\n",
        "\n",
        "learning_rate=0.1\n",
        "num_epoches=200\n",
        "\n",
        "\n",
        "model=MyAlexNet(10)\n",
        "if torch.cuda.is_available():\n",
        "    model = model.cuda()\n",
        "criterion = nn.CrossEntropyLoss()\n",
        "optimizer = optim.SGD(model.parameters(),lr=learning_rate, momentum=0.8)\n",
        "#optimizer = optim.Adam(model.parameters(), lr = learning_rate)\n",
        "n_epochs=2\n",
        "for epoch in range(n_epochs):\n",
        "    total=0\n",
        "    running_loss=0.0\n",
        "    running_correct=0\n",
        "    print(\"epoch {}/{}\".format(epoch,n_epochs))\n",
        "    print(\"-\"*10)\n",
        "    for i, data in enumerate(train_loader, 0):\n",
        "        img,label=data\n",
        "        #img=img.view(img.size(0),-1)\n",
        "        img = Variable(img)\n",
        "        if torch.cuda.is_available():\n",
        "            img=img.cuda()\n",
        "            label=label.cuda()\n",
        "        else:\n",
        "            img=Variable(img)\n",
        "            label=Variable(label)\n",
        "        out=model(img)#得到前向传播的结果\n",
        "        loss=criterion(out,label)#得到损失函数\n",
        "        print_loss=loss.data.item()\n",
        "        optimizer.zero_grad()#归0梯度\n",
        "        loss.backward()#反向传播\n",
        "        optimizer.step()#优化\n",
        "        running_loss+=loss.item()\n",
        "        epoch+=1\n",
        "        if i % 2000 == 1999:    # 2000 ミニバッチ毎に表示する\n",
        "            print('[%d, %5d] loss: %.3f' %\n",
        "                  (epoch + 1, i + 1, running_loss / 2000))\n",
        "            running_loss = 0.0\n",
        "    _, predicted = torch.max(out.data, 1)\n",
        "    total += label.size(0)\n",
        "    running_correct += (predicted == label).sum()\n",
        "    print('Accuracy of the network on the 10000 test images: %d %%' % (100 * running_correct / total))\n",
        "\n"
      ],
      "execution_count": 0,
      "outputs": [
        {
          "output_type": "stream",
          "text": [
            "epoch 0/2\n",
            "----------\n",
            "[2001,  2000] loss: 2.332\n",
            "[4001,  4000] loss: 2.332\n",
            "[6001,  6000] loss: 2.330\n",
            "[8001,  8000] loss: 2.330\n",
            "[10001, 10000] loss: 2.331\n",
            "[12001, 12000] loss: 2.331\n",
            "Accuracy of the network on the 10000 test images: 25 %\n",
            "epoch 1/2\n",
            "----------\n",
            "[2002,  2000] loss: 2.327\n",
            "[4002,  4000] loss: 2.330\n",
            "[6002,  6000] loss: 2.332\n",
            "[8002,  8000] loss: 2.329\n",
            "[10002, 10000] loss: 2.333\n",
            "[12002, 12000] loss: 2.331\n",
            "Accuracy of the network on the 10000 test images: 25 %\n"
          ],
          "name": "stdout"
        }
      ]
    }
  ]
}